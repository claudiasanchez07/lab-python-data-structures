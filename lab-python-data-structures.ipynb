{
 "cells": [
  {
   "cell_type": "markdown",
   "metadata": {
    "tags": []
   },
   "source": [
    "# Lab | Data Structures "
   ]
  },
  {
   "cell_type": "markdown",
   "metadata": {},
   "source": [
    "## Exercise: Managing Customer Orders\n",
    "\n",
    "As part of a business venture, you are starting an online store that sells various products. To ensure smooth operations, you need to develop a program that manages customer orders and inventory.\n",
    "\n",
    "Follow the steps below to complete the exercise:\n",
    "\n",
    "1. Define a list called `products` that contains the following items: \"t-shirt\", \"mug\", \"hat\", \"book\", \"keychain\".\n",
    "\n",
    "2. Create an empty dictionary called `inventory`.\n",
    "\n",
    "3. Ask the user to input the quantity of each product available in the inventory. Use the product names from the `products` list as keys in the `inventory` dictionary and assign the respective quantities as values.\n",
    "\n",
    "4. Create an empty set called `customer_orders`.\n",
    "\n",
    "5. Ask the user to input the name of three products that a customer wants to order (from those in the products list, meaning three products out of \"t-shirt\", \"mug\", \"hat\", \"book\" or \"keychain\". Add each product name to the `customer_orders` set.\n",
    "\n",
    "6. Print the products in the `customer_orders` set.\n",
    "\n",
    "7. Calculate the following order statistics:\n",
    "   - Total Products Ordered: The total number of products in the `customer_orders` set.\n",
    "   - Percentage of Products Ordered: The percentage of products ordered compared to the total available products.\n",
    "   \n",
    "   Store these statistics in a tuple called `order_status`.\n",
    "\n",
    "8. Print the order statistics using the following format:\n",
    "   ```\n",
    "   Order Statistics:\n",
    "   Total Products Ordered: <total_products_ordered>\n",
    "   Percentage of Products Ordered: <percentage_ordered>% \n",
    "   ```\n",
    "\n",
    "9. Update the inventory by subtracting 1 from the quantity of each product. Modify the `inventory` dictionary accordingly.\n",
    "\n",
    "10. Print the updated inventory, displaying the quantity of each product on separate lines.\n",
    "\n",
    "Solve the exercise by implementing the steps using the Python concepts of lists, dictionaries, sets, and basic input/output operations. "
   ]
  },
  {
   "cell_type": "code",
   "execution_count": null,
   "metadata": {},
   "outputs": [],
   "source": [
    "products= [\"t-shirt\",\"mug\",\"hat\",\"book\",\"keychain\"]\n",
    "inventory= {}\n",
    "t_shirt=int(input(\"Enter the quantity of t-shirt:\"))\n",
    "mug=int(input(\"Enter the quantity of mug:\"))\n",
    "hat= int(input(\"Number of hats?\"))\n",
    "book= int(input(\"Number of books?\"))\n",
    "keychain= int(input(\"Number of keychains?\"))\n",
    "inventory['t-shirt']=t_shirt\n",
    "inventory['mug']=mug\n",
    "inventory['hat']=hat\n",
    "inventory['book']=book\n",
    "inventory['keychain']=keychain\n",
    "print(inventory)\n",
    "customer_orders= set()\n",
    "my_list=input(\"Which 3 items do you want? t-shirt, mug, hat, book or keychain?\").lower()\n",
    "split_list=my_list.split(\",\")\n",
    "print(split_list)\n",
    "customer_orders.update(split_list)\n",
    "total_products_ordered=len(customer_orders)\n",
    "print(total_products_ordered)\n",
    "percentage= len(customer_orders)/len(products)*100\n",
    "print( f\"Tthe percentage is {percentage}%\")\n",
    "order_status=(percentage,)\n",
    "print(order_status)\n",
    "print(\"Order Statistics:\")\n",
    "print(f\"Total Products Ordered:{total_products_ordered}\")\n",
    "print(f\"Percentage of Products Ordered:{percentage}%\")\n",
    "\n",
    "for item in products:\n",
    "    if item  in inventory:\n",
    "       inventory[item]-=1\n",
    "\n",
    "for key, value in inventory.items():\n",
    "    print(key,value)"
   ]
  }
 ],
 "metadata": {
  "kernelspec": {
   "display_name": "base",
   "language": "python",
   "name": "python3"
  },
  "language_info": {
   "codemirror_mode": {
    "name": "ipython",
    "version": 3
   },
   "file_extension": ".py",
   "mimetype": "text/x-python",
   "name": "python",
   "nbconvert_exporter": "python",
   "pygments_lexer": "ipython3",
   "version": "3.13.5"
  }
 },
 "nbformat": 4,
 "nbformat_minor": 4
}
